{
 "cells": [
  {
   "cell_type": "markdown",
   "metadata": {},
   "source": [
    "# Convolutional generative adversarial imputation networks for spatio-temporal missing data (Conv-GAIN)\n",
    "<br>\n",
    "<li>Authors: Ehsan Adeli, Jize Zhang, Alexandros A. Taflanidis \n",
    "<li>Paper: Ehsan Adeli, Jize Zhang, Alexandros A. Taflanidis, \"Conv-GAIN: Missing Data Imputation using Convolutional Generative Adversarial Nets for spatio-temporal missing data in storm surge simulations. 26 Nov 2021.<br>\n",
    "<li>Paper Link: (<a href=\"https://arxiv.org/abs/2111.02823\">Paper</a>)<br>\n",
    "<li>Contact: Sedeeq.alaa@gmail.com</li><br><br>\n",
    "\n",
    "<!-- <h4 align=\"center\">Conv-GAIN architecture</h4>\n",
    "<img src='Conv_GAIN.png'></img><br><br>\n",
    "\n",
    "<h4 align=\"center\">The Proposed Conv-GAIN architecture</h4>\n",
    "<img src=\"Conv_GAIN_layers.png\" align=\"center\"></img> -->"
   ]
  },
  {
   "cell_type": "markdown",
   "metadata": {},
   "source": [
    "## Immport the needed libraries"
   ]
  },
  {
   "cell_type": "code",
   "execution_count": 1,
   "metadata": {
    "scrolled": true
   },
   "outputs": [
    {
     "name": "stderr",
     "output_type": "stream",
     "text": [
      "Using TensorFlow backend.\n"
     ]
    },
    {
     "name": "stdout",
     "output_type": "stream",
     "text": [
      "WARNING:tensorflow:From /home/dsl001/anaconda3/envs/tf240/lib/python3.7/site-packages/tensorflow/python/compat/v2_compat.py:96: disable_resource_variables (from tensorflow.python.ops.variable_scope) is deprecated and will be removed in a future version.\n",
      "Instructions for updating:\n",
      "non-resource variables are not supported in the long term\n"
     ]
    }
   ],
   "source": [
    "from tqdm import tqdm \n",
    "import numpy as np\n",
    "from keras.datasets import mnist\n",
    "import tensorflow.compat.v1 as tf\n",
    "tf.disable_v2_behavior()\n",
    "import matplotlib.pyplot as  plt\n",
    "\n",
    "from utils.ConvGainUtils import *\n",
    "from model import ConvGAIN\n",
    "import pandas as pd"
   ]
  },
  {
   "cell_type": "markdown",
   "metadata": {},
   "source": [
    "## Loading and preprocessing the data"
   ]
  },
  {
   "cell_type": "code",
   "execution_count": 2,
   "metadata": {},
   "outputs": [],
   "source": [
    "data = pd.read_csv(\"./data/O3.csv\")\n",
    "del data['Unnamed: 0']"
   ]
  },
  {
   "cell_type": "code",
   "execution_count": 3,
   "metadata": {},
   "outputs": [
    {
     "data": {
      "text/html": [
       "<div>\n",
       "<style scoped>\n",
       "    .dataframe tbody tr th:only-of-type {\n",
       "        vertical-align: middle;\n",
       "    }\n",
       "\n",
       "    .dataframe tbody tr th {\n",
       "        vertical-align: top;\n",
       "    }\n",
       "\n",
       "    .dataframe thead th {\n",
       "        text-align: right;\n",
       "    }\n",
       "</style>\n",
       "<table border=\"1\" class=\"dataframe\">\n",
       "  <thead>\n",
       "    <tr style=\"text-align: right;\">\n",
       "      <th></th>\n",
       "      <th>0</th>\n",
       "      <th>1</th>\n",
       "      <th>2</th>\n",
       "      <th>3</th>\n",
       "      <th>4</th>\n",
       "      <th>5</th>\n",
       "      <th>6</th>\n",
       "      <th>7</th>\n",
       "      <th>8</th>\n",
       "      <th>9</th>\n",
       "      <th>...</th>\n",
       "      <th>18</th>\n",
       "      <th>19</th>\n",
       "      <th>20</th>\n",
       "      <th>21</th>\n",
       "      <th>22</th>\n",
       "      <th>23</th>\n",
       "      <th>24</th>\n",
       "      <th>25</th>\n",
       "      <th>26</th>\n",
       "      <th>27</th>\n",
       "    </tr>\n",
       "  </thead>\n",
       "  <tbody>\n",
       "    <tr>\n",
       "      <th>0</th>\n",
       "      <td>0.035978</td>\n",
       "      <td>0.034749</td>\n",
       "      <td>0.033539</td>\n",
       "      <td>0.032423</td>\n",
       "      <td>0.031472</td>\n",
       "      <td>0.030592</td>\n",
       "      <td>0.029516</td>\n",
       "      <td>0.028957</td>\n",
       "      <td>0.030079</td>\n",
       "      <td>0.032309</td>\n",
       "      <td>...</td>\n",
       "      <td>0.063260</td>\n",
       "      <td>0.065013</td>\n",
       "      <td>0.066024</td>\n",
       "      <td>0.067783</td>\n",
       "      <td>0.070820</td>\n",
       "      <td>0.073832</td>\n",
       "      <td>0.076159</td>\n",
       "      <td>0.077827</td>\n",
       "      <td>0.078992</td>\n",
       "      <td>0.079786</td>\n",
       "    </tr>\n",
       "    <tr>\n",
       "      <th>1</th>\n",
       "      <td>0.035577</td>\n",
       "      <td>0.034272</td>\n",
       "      <td>0.032971</td>\n",
       "      <td>0.031768</td>\n",
       "      <td>0.030779</td>\n",
       "      <td>0.029898</td>\n",
       "      <td>0.028408</td>\n",
       "      <td>0.027425</td>\n",
       "      <td>0.029075</td>\n",
       "      <td>0.031558</td>\n",
       "      <td>...</td>\n",
       "      <td>0.063644</td>\n",
       "      <td>0.064818</td>\n",
       "      <td>0.064564</td>\n",
       "      <td>0.066057</td>\n",
       "      <td>0.070305</td>\n",
       "      <td>0.074155</td>\n",
       "      <td>0.076809</td>\n",
       "      <td>0.078574</td>\n",
       "      <td>0.079742</td>\n",
       "      <td>0.080499</td>\n",
       "    </tr>\n",
       "    <tr>\n",
       "      <th>2</th>\n",
       "      <td>0.035218</td>\n",
       "      <td>0.033842</td>\n",
       "      <td>0.032451</td>\n",
       "      <td>0.031152</td>\n",
       "      <td>0.030138</td>\n",
       "      <td>0.029400</td>\n",
       "      <td>0.027324</td>\n",
       "      <td>0.026087</td>\n",
       "      <td>0.028208</td>\n",
       "      <td>0.031021</td>\n",
       "      <td>...</td>\n",
       "      <td>0.064092</td>\n",
       "      <td>0.064395</td>\n",
       "      <td>0.061475</td>\n",
       "      <td>0.062454</td>\n",
       "      <td>0.069415</td>\n",
       "      <td>0.074515</td>\n",
       "      <td>0.077532</td>\n",
       "      <td>0.079378</td>\n",
       "      <td>0.080531</td>\n",
       "      <td>0.081239</td>\n",
       "    </tr>\n",
       "    <tr>\n",
       "      <th>3</th>\n",
       "      <td>0.034906</td>\n",
       "      <td>0.033468</td>\n",
       "      <td>0.031992</td>\n",
       "      <td>0.030590</td>\n",
       "      <td>0.029544</td>\n",
       "      <td>0.029179</td>\n",
       "      <td>0.027005</td>\n",
       "      <td>0.030972</td>\n",
       "      <td>0.027751</td>\n",
       "      <td>0.030744</td>\n",
       "      <td>...</td>\n",
       "      <td>0.064660</td>\n",
       "      <td>0.063885</td>\n",
       "      <td>0.055547</td>\n",
       "      <td>0.055534</td>\n",
       "      <td>0.068349</td>\n",
       "      <td>0.075018</td>\n",
       "      <td>0.078360</td>\n",
       "      <td>0.080246</td>\n",
       "      <td>0.081359</td>\n",
       "      <td>0.082001</td>\n",
       "    </tr>\n",
       "    <tr>\n",
       "      <th>4</th>\n",
       "      <td>0.034644</td>\n",
       "      <td>0.033158</td>\n",
       "      <td>0.031612</td>\n",
       "      <td>0.030113</td>\n",
       "      <td>0.029020</td>\n",
       "      <td>0.029364</td>\n",
       "      <td>0.029707</td>\n",
       "      <td>0.026443</td>\n",
       "      <td>0.027920</td>\n",
       "      <td>0.030662</td>\n",
       "      <td>...</td>\n",
       "      <td>0.065422</td>\n",
       "      <td>0.063789</td>\n",
       "      <td>0.047461</td>\n",
       "      <td>0.045933</td>\n",
       "      <td>0.067847</td>\n",
       "      <td>0.075809</td>\n",
       "      <td>0.079321</td>\n",
       "      <td>0.081185</td>\n",
       "      <td>0.082226</td>\n",
       "      <td>0.082783</td>\n",
       "    </tr>\n",
       "    <tr>\n",
       "      <th>...</th>\n",
       "      <td>...</td>\n",
       "      <td>...</td>\n",
       "      <td>...</td>\n",
       "      <td>...</td>\n",
       "      <td>...</td>\n",
       "      <td>...</td>\n",
       "      <td>...</td>\n",
       "      <td>...</td>\n",
       "      <td>...</td>\n",
       "      <td>...</td>\n",
       "      <td>...</td>\n",
       "      <td>...</td>\n",
       "      <td>...</td>\n",
       "      <td>...</td>\n",
       "      <td>...</td>\n",
       "      <td>...</td>\n",
       "      <td>...</td>\n",
       "      <td>...</td>\n",
       "      <td>...</td>\n",
       "      <td>...</td>\n",
       "      <td>...</td>\n",
       "    </tr>\n",
       "    <tr>\n",
       "      <th>572315</th>\n",
       "      <td>0.030375</td>\n",
       "      <td>0.030523</td>\n",
       "      <td>0.027202</td>\n",
       "      <td>0.033708</td>\n",
       "      <td>0.028357</td>\n",
       "      <td>0.026931</td>\n",
       "      <td>0.027138</td>\n",
       "      <td>0.027382</td>\n",
       "      <td>0.026379</td>\n",
       "      <td>0.025179</td>\n",
       "      <td>...</td>\n",
       "      <td>0.017220</td>\n",
       "      <td>0.015143</td>\n",
       "      <td>0.016512</td>\n",
       "      <td>0.026151</td>\n",
       "      <td>0.019855</td>\n",
       "      <td>0.024117</td>\n",
       "      <td>0.019832</td>\n",
       "      <td>0.019271</td>\n",
       "      <td>0.019075</td>\n",
       "      <td>0.019084</td>\n",
       "    </tr>\n",
       "    <tr>\n",
       "      <th>572316</th>\n",
       "      <td>0.030540</td>\n",
       "      <td>0.031188</td>\n",
       "      <td>0.030615</td>\n",
       "      <td>0.036814</td>\n",
       "      <td>0.029301</td>\n",
       "      <td>0.027343</td>\n",
       "      <td>0.026976</td>\n",
       "      <td>0.026761</td>\n",
       "      <td>0.026007</td>\n",
       "      <td>0.025074</td>\n",
       "      <td>...</td>\n",
       "      <td>0.018577</td>\n",
       "      <td>0.016545</td>\n",
       "      <td>0.017259</td>\n",
       "      <td>0.019994</td>\n",
       "      <td>0.019833</td>\n",
       "      <td>0.022790</td>\n",
       "      <td>0.019777</td>\n",
       "      <td>0.019296</td>\n",
       "      <td>0.019155</td>\n",
       "      <td>0.019171</td>\n",
       "    </tr>\n",
       "    <tr>\n",
       "      <th>572317</th>\n",
       "      <td>0.030615</td>\n",
       "      <td>0.031859</td>\n",
       "      <td>0.038635</td>\n",
       "      <td>0.036147</td>\n",
       "      <td>0.029673</td>\n",
       "      <td>0.027573</td>\n",
       "      <td>0.026876</td>\n",
       "      <td>0.026421</td>\n",
       "      <td>0.025743</td>\n",
       "      <td>0.024956</td>\n",
       "      <td>...</td>\n",
       "      <td>0.019185</td>\n",
       "      <td>0.017357</td>\n",
       "      <td>0.017646</td>\n",
       "      <td>0.018752</td>\n",
       "      <td>0.019435</td>\n",
       "      <td>0.020363</td>\n",
       "      <td>0.019618</td>\n",
       "      <td>0.019305</td>\n",
       "      <td>0.019219</td>\n",
       "      <td>0.019250</td>\n",
       "    </tr>\n",
       "    <tr>\n",
       "      <th>572318</th>\n",
       "      <td>0.030549</td>\n",
       "      <td>0.031754</td>\n",
       "      <td>0.034901</td>\n",
       "      <td>0.033527</td>\n",
       "      <td>0.029527</td>\n",
       "      <td>0.027632</td>\n",
       "      <td>0.026786</td>\n",
       "      <td>0.026200</td>\n",
       "      <td>0.025545</td>\n",
       "      <td>0.024837</td>\n",
       "      <td>...</td>\n",
       "      <td>0.019071</td>\n",
       "      <td>0.017899</td>\n",
       "      <td>0.017941</td>\n",
       "      <td>0.018543</td>\n",
       "      <td>0.019131</td>\n",
       "      <td>0.019600</td>\n",
       "      <td>0.019455</td>\n",
       "      <td>0.019309</td>\n",
       "      <td>0.019277</td>\n",
       "      <td>0.019326</td>\n",
       "    </tr>\n",
       "    <tr>\n",
       "      <th>572319</th>\n",
       "      <td>0.030350</td>\n",
       "      <td>0.031154</td>\n",
       "      <td>0.032432</td>\n",
       "      <td>0.031507</td>\n",
       "      <td>0.029118</td>\n",
       "      <td>0.027560</td>\n",
       "      <td>0.026681</td>\n",
       "      <td>0.026033</td>\n",
       "      <td>0.025387</td>\n",
       "      <td>0.024725</td>\n",
       "      <td>...</td>\n",
       "      <td>0.019114</td>\n",
       "      <td>0.018290</td>\n",
       "      <td>0.018211</td>\n",
       "      <td>0.018559</td>\n",
       "      <td>0.018989</td>\n",
       "      <td>0.019311</td>\n",
       "      <td>0.019352</td>\n",
       "      <td>0.019322</td>\n",
       "      <td>0.019337</td>\n",
       "      <td>0.019403</td>\n",
       "    </tr>\n",
       "  </tbody>\n",
       "</table>\n",
       "<p>572320 rows × 28 columns</p>\n",
       "</div>"
      ],
      "text/plain": [
       "               0         1         2         3         4         5         6  \\\n",
       "0       0.035978  0.034749  0.033539  0.032423  0.031472  0.030592  0.029516   \n",
       "1       0.035577  0.034272  0.032971  0.031768  0.030779  0.029898  0.028408   \n",
       "2       0.035218  0.033842  0.032451  0.031152  0.030138  0.029400  0.027324   \n",
       "3       0.034906  0.033468  0.031992  0.030590  0.029544  0.029179  0.027005   \n",
       "4       0.034644  0.033158  0.031612  0.030113  0.029020  0.029364  0.029707   \n",
       "...          ...       ...       ...       ...       ...       ...       ...   \n",
       "572315  0.030375  0.030523  0.027202  0.033708  0.028357  0.026931  0.027138   \n",
       "572316  0.030540  0.031188  0.030615  0.036814  0.029301  0.027343  0.026976   \n",
       "572317  0.030615  0.031859  0.038635  0.036147  0.029673  0.027573  0.026876   \n",
       "572318  0.030549  0.031754  0.034901  0.033527  0.029527  0.027632  0.026786   \n",
       "572319  0.030350  0.031154  0.032432  0.031507  0.029118  0.027560  0.026681   \n",
       "\n",
       "               7         8         9  ...        18        19        20  \\\n",
       "0       0.028957  0.030079  0.032309  ...  0.063260  0.065013  0.066024   \n",
       "1       0.027425  0.029075  0.031558  ...  0.063644  0.064818  0.064564   \n",
       "2       0.026087  0.028208  0.031021  ...  0.064092  0.064395  0.061475   \n",
       "3       0.030972  0.027751  0.030744  ...  0.064660  0.063885  0.055547   \n",
       "4       0.026443  0.027920  0.030662  ...  0.065422  0.063789  0.047461   \n",
       "...          ...       ...       ...  ...       ...       ...       ...   \n",
       "572315  0.027382  0.026379  0.025179  ...  0.017220  0.015143  0.016512   \n",
       "572316  0.026761  0.026007  0.025074  ...  0.018577  0.016545  0.017259   \n",
       "572317  0.026421  0.025743  0.024956  ...  0.019185  0.017357  0.017646   \n",
       "572318  0.026200  0.025545  0.024837  ...  0.019071  0.017899  0.017941   \n",
       "572319  0.026033  0.025387  0.024725  ...  0.019114  0.018290  0.018211   \n",
       "\n",
       "              21        22        23        24        25        26        27  \n",
       "0       0.067783  0.070820  0.073832  0.076159  0.077827  0.078992  0.079786  \n",
       "1       0.066057  0.070305  0.074155  0.076809  0.078574  0.079742  0.080499  \n",
       "2       0.062454  0.069415  0.074515  0.077532  0.079378  0.080531  0.081239  \n",
       "3       0.055534  0.068349  0.075018  0.078360  0.080246  0.081359  0.082001  \n",
       "4       0.045933  0.067847  0.075809  0.079321  0.081185  0.082226  0.082783  \n",
       "...          ...       ...       ...       ...       ...       ...       ...  \n",
       "572315  0.026151  0.019855  0.024117  0.019832  0.019271  0.019075  0.019084  \n",
       "572316  0.019994  0.019833  0.022790  0.019777  0.019296  0.019155  0.019171  \n",
       "572317  0.018752  0.019435  0.020363  0.019618  0.019305  0.019219  0.019250  \n",
       "572318  0.018543  0.019131  0.019600  0.019455  0.019309  0.019277  0.019326  \n",
       "572319  0.018559  0.018989  0.019311  0.019352  0.019322  0.019337  0.019403  \n",
       "\n",
       "[572320 rows x 28 columns]"
      ]
     },
     "execution_count": 3,
     "metadata": {},
     "output_type": "execute_result"
    }
   ],
   "source": [
    "data"
   ]
  },
  {
   "cell_type": "code",
   "execution_count": 4,
   "metadata": {},
   "outputs": [
    {
     "data": {
      "text/plain": [
       "(28,)"
      ]
     },
     "execution_count": 4,
     "metadata": {},
     "output_type": "execute_result"
    }
   ],
   "source": [
    "data = np.asarray(data)\n",
    "data[0].shape"
   ]
  },
  {
   "cell_type": "code",
   "execution_count": 5,
   "metadata": {},
   "outputs": [
    {
     "name": "stdout",
     "output_type": "stream",
     "text": [
      "<class 'numpy.ndarray'>\n",
      "(572320, 28)\n",
      "(20440, 28, 28, 1)\n"
     ]
    }
   ],
   "source": [
    "data = np.asarray(data)\n",
    "print(type(data))\n",
    "print(data.shape)\n",
    "data_x = np.reshape(data, (20440,28, 28, 1))\n",
    "print(np.shape(data_x))\n",
    "# Parameters\n",
    "no, rows, cols, _ = data_x.shape\n",
    "\n",
    "# Introduce missing data\n",
    "data_x, data_m, mask = data_preprocessor(data_x, 0.1, 28, 28)"
   ]
  },
  {
   "cell_type": "markdown",
   "metadata": {},
   "source": [
    "## Training the model"
   ]
  },
  {
   "cell_type": "code",
   "execution_count": 6,
   "metadata": {},
   "outputs": [
    {
     "name": "stderr",
     "output_type": "stream",
     "text": [
      "Epoch(1): D_loss, G_loss ===> 0.464, 0.015: 100%|██████████| 79/79 [00:14<00:00,  5.36it/s]\n",
      "Epoch(2): D_loss, G_loss ===> 0.408, 0.016: 100%|██████████| 79/79 [00:02<00:00, 30.94it/s]\n",
      "Epoch(3): D_loss, G_loss ===> 0.378, 0.014: 100%|██████████| 79/79 [00:02<00:00, 30.43it/s]\n",
      "Epoch(4): D_loss, G_loss ===> 0.363, 0.011: 100%|██████████| 79/79 [00:02<00:00, 30.25it/s]\n",
      "Epoch(5): D_loss, G_loss ===> 0.366, 0.011: 100%|██████████| 79/79 [00:02<00:00, 30.35it/s]\n",
      "Epoch(6): D_loss, G_loss ===> 0.351, 0.010: 100%|██████████| 79/79 [00:02<00:00, 30.22it/s]\n",
      "Epoch(7): D_loss, G_loss ===> 0.352, 0.011: 100%|██████████| 79/79 [00:02<00:00, 30.47it/s]\n",
      "Epoch(8): D_loss, G_loss ===> 0.343, 0.012: 100%|██████████| 79/79 [00:02<00:00, 30.41it/s]\n",
      "Epoch(9): D_loss, G_loss ===> 0.340, 0.011: 100%|██████████| 79/79 [00:02<00:00, 30.67it/s]\n",
      "Epoch(10): D_loss, G_loss ===> 0.336, 0.012: 100%|██████████| 79/79 [00:02<00:00, 30.40it/s]\n",
      "Epoch(11): D_loss, G_loss ===> 0.341, 0.013: 100%|██████████| 79/79 [00:02<00:00, 30.96it/s]\n",
      "Epoch(12): D_loss, G_loss ===> 0.338, 0.011: 100%|██████████| 79/79 [00:02<00:00, 30.44it/s]\n",
      "Epoch(13): D_loss, G_loss ===> 0.343, 0.010: 100%|██████████| 79/79 [00:02<00:00, 30.56it/s]\n",
      "Epoch(14): D_loss, G_loss ===> 0.339, 0.011: 100%|██████████| 79/79 [00:02<00:00, 30.38it/s]\n",
      "Epoch(15): D_loss, G_loss ===> 0.336, 0.011: 100%|██████████| 79/79 [00:02<00:00, 30.27it/s]\n",
      "Epoch(16): D_loss, G_loss ===> 0.333, 0.011: 100%|██████████| 79/79 [00:02<00:00, 30.80it/s]\n",
      "Epoch(17): D_loss, G_loss ===> 0.334, 0.010: 100%|██████████| 79/79 [00:02<00:00, 30.73it/s]\n",
      "Epoch(18): D_loss, G_loss ===> 0.334, 0.010: 100%|██████████| 79/79 [00:02<00:00, 30.36it/s]\n",
      "Epoch(19): D_loss, G_loss ===> 0.334, 0.009: 100%|██████████| 79/79 [00:02<00:00, 31.08it/s]\n",
      "Epoch(20): D_loss, G_loss ===> 0.327, 0.012: 100%|██████████| 79/79 [00:02<00:00, 31.25it/s]\n",
      "Epoch(21): D_loss, G_loss ===> 0.329, 0.012: 100%|██████████| 79/79 [00:02<00:00, 30.43it/s]\n",
      "Epoch(22): D_loss, G_loss ===> 0.329, 0.010: 100%|██████████| 79/79 [00:02<00:00, 30.55it/s]\n",
      "Epoch(23): D_loss, G_loss ===> 0.327, 0.013: 100%|██████████| 79/79 [00:02<00:00, 30.98it/s]\n",
      "Epoch(24): D_loss, G_loss ===> 0.322, 0.011: 100%|██████████| 79/79 [00:02<00:00, 30.56it/s]\n",
      "Epoch(25): D_loss, G_loss ===> 0.330, 0.010: 100%|██████████| 79/79 [00:02<00:00, 30.65it/s]\n",
      "Epoch(26): D_loss, G_loss ===> 0.328, 0.011: 100%|██████████| 79/79 [00:02<00:00, 30.07it/s]\n",
      "Epoch(27): D_loss, G_loss ===> 0.327, 0.010: 100%|██████████| 79/79 [00:02<00:00, 30.79it/s]\n",
      "Epoch(28): D_loss, G_loss ===> 0.328, 0.009: 100%|██████████| 79/79 [00:02<00:00, 31.04it/s]\n",
      "Epoch(29): D_loss, G_loss ===> 0.327, 0.011: 100%|██████████| 79/79 [00:02<00:00, 33.01it/s]\n",
      "Epoch(30): D_loss, G_loss ===> 0.325, 0.012: 100%|██████████| 79/79 [00:02<00:00, 31.50it/s]\n",
      "Epoch(31): D_loss, G_loss ===> 0.327, 0.013: 100%|██████████| 79/79 [00:02<00:00, 33.06it/s]\n",
      "Epoch(32): D_loss, G_loss ===> 0.323, 0.013: 100%|██████████| 79/79 [00:02<00:00, 33.39it/s]\n",
      "Epoch(33): D_loss, G_loss ===> 0.326, 0.011: 100%|██████████| 79/79 [00:02<00:00, 30.52it/s]\n",
      "Epoch(34): D_loss, G_loss ===> 0.322, 0.011: 100%|██████████| 79/79 [00:02<00:00, 32.12it/s]\n",
      "Epoch(35): D_loss, G_loss ===> 0.324, 0.012: 100%|██████████| 79/79 [00:02<00:00, 30.09it/s]\n",
      "Epoch(36): D_loss, G_loss ===> 0.325, 0.011: 100%|██████████| 79/79 [00:02<00:00, 33.12it/s]\n",
      "Epoch(37): D_loss, G_loss ===> 0.323, 0.012: 100%|██████████| 79/79 [00:02<00:00, 31.16it/s]\n",
      "Epoch(38): D_loss, G_loss ===> 0.323, 0.011: 100%|██████████| 79/79 [00:02<00:00, 32.34it/s]\n",
      "Epoch(39): D_loss, G_loss ===> 0.326, 0.011: 100%|██████████| 79/79 [00:02<00:00, 33.22it/s]\n",
      "Epoch(40): D_loss, G_loss ===> 0.323, 0.012: 100%|██████████| 79/79 [00:02<00:00, 30.94it/s]\n",
      "Epoch(41): D_loss, G_loss ===> 0.322, 0.012: 100%|██████████| 79/79 [00:02<00:00, 31.68it/s]\n",
      "Epoch(42): D_loss, G_loss ===> 0.323, 0.011: 100%|██████████| 79/79 [00:02<00:00, 31.42it/s]\n",
      "Epoch(43): D_loss, G_loss ===> 0.322, 0.011: 100%|██████████| 79/79 [00:02<00:00, 32.79it/s]\n",
      "Epoch(44): D_loss, G_loss ===> 0.323, 0.011: 100%|██████████| 79/79 [00:02<00:00, 32.08it/s]\n",
      "Epoch(45): D_loss, G_loss ===> 0.324, 0.015: 100%|██████████| 79/79 [00:02<00:00, 33.42it/s]\n",
      "Epoch(46): D_loss, G_loss ===> 0.319, 0.012: 100%|██████████| 79/79 [00:02<00:00, 32.96it/s]\n",
      "Epoch(47): D_loss, G_loss ===> 0.322, 0.011: 100%|██████████| 79/79 [00:02<00:00, 32.14it/s]\n",
      "Epoch(48): D_loss, G_loss ===> 0.321, 0.013: 100%|██████████| 79/79 [00:02<00:00, 31.75it/s]\n",
      "Epoch(49): D_loss, G_loss ===> 0.320, 0.012: 100%|██████████| 79/79 [00:02<00:00, 32.41it/s]\n",
      "Epoch(50): D_loss, G_loss ===> 0.320, 0.012: 100%|██████████| 79/79 [00:02<00:00, 32.73it/s]\n",
      "Epoch(51): D_loss, G_loss ===> 0.322, 0.012: 100%|██████████| 79/79 [00:02<00:00, 32.81it/s]\n",
      "Epoch(52): D_loss, G_loss ===> 0.320, 0.011: 100%|██████████| 79/79 [00:02<00:00, 33.25it/s]\n",
      "Epoch(53): D_loss, G_loss ===> 0.322, 0.014: 100%|██████████| 79/79 [00:02<00:00, 32.99it/s]\n",
      "Epoch(54): D_loss, G_loss ===> 0.319, 0.013: 100%|██████████| 79/79 [00:02<00:00, 32.83it/s]\n",
      "Epoch(55): D_loss, G_loss ===> 0.319, 0.013: 100%|██████████| 79/79 [00:02<00:00, 33.33it/s]\n",
      "Epoch(56): D_loss, G_loss ===> 0.319, 0.013: 100%|██████████| 79/79 [00:02<00:00, 33.29it/s]\n",
      "Epoch(57): D_loss, G_loss ===> 0.321, 0.014: 100%|██████████| 79/79 [00:02<00:00, 33.06it/s]\n",
      "Epoch(58): D_loss, G_loss ===> 0.321, 0.012: 100%|██████████| 79/79 [00:02<00:00, 33.13it/s]\n",
      "Epoch(59): D_loss, G_loss ===> 0.314, 0.013: 100%|██████████| 79/79 [00:02<00:00, 32.91it/s]\n",
      "Epoch(60): D_loss, G_loss ===> 0.317, 0.014: 100%|██████████| 79/79 [00:02<00:00, 33.08it/s]\n",
      "Epoch(61): D_loss, G_loss ===> 0.313, 0.013: 100%|██████████| 79/79 [00:02<00:00, 33.50it/s]\n",
      "Epoch(62): D_loss, G_loss ===> 0.315, 0.013: 100%|██████████| 79/79 [00:02<00:00, 33.27it/s]\n",
      "Epoch(63): D_loss, G_loss ===> 0.317, 0.014: 100%|██████████| 79/79 [00:02<00:00, 33.29it/s]\n",
      "Epoch(64): D_loss, G_loss ===> 0.319, 0.014: 100%|██████████| 79/79 [00:02<00:00, 33.31it/s]\n",
      "Epoch(65): D_loss, G_loss ===> 0.317, 0.014: 100%|██████████| 79/79 [00:02<00:00, 33.56it/s]\n",
      "Epoch(66): D_loss, G_loss ===> 0.318, 0.015: 100%|██████████| 79/79 [00:02<00:00, 33.26it/s]\n",
      "Epoch(67): D_loss, G_loss ===> 0.318, 0.015: 100%|██████████| 79/79 [00:02<00:00, 33.09it/s]\n",
      "Epoch(68): D_loss, G_loss ===> 0.316, 0.014: 100%|██████████| 79/79 [00:02<00:00, 33.14it/s]\n",
      "Epoch(69): D_loss, G_loss ===> 0.319, 0.013: 100%|██████████| 79/79 [00:02<00:00, 33.12it/s]\n",
      "Epoch(70): D_loss, G_loss ===> 0.315, 0.015: 100%|██████████| 79/79 [00:02<00:00, 33.19it/s]\n",
      "Epoch(71): D_loss, G_loss ===> 0.314, 0.013: 100%|██████████| 79/79 [00:02<00:00, 32.71it/s]\n",
      "Epoch(72): D_loss, G_loss ===> 0.313, 0.014: 100%|██████████| 79/79 [00:02<00:00, 32.99it/s]\n",
      "Epoch(73): D_loss, G_loss ===> 0.313, 0.015: 100%|██████████| 79/79 [00:02<00:00, 33.18it/s]\n",
      "Epoch(74): D_loss, G_loss ===> 0.313, 0.015: 100%|██████████| 79/79 [00:02<00:00, 33.03it/s]\n",
      "Epoch(75): D_loss, G_loss ===> 0.313, 0.015: 100%|██████████| 79/79 [00:02<00:00, 33.38it/s]\n",
      "Epoch(76): D_loss, G_loss ===> 0.319, 0.016: 100%|██████████| 79/79 [00:02<00:00, 33.27it/s]\n",
      "Epoch(77): D_loss, G_loss ===> 0.316, 0.015: 100%|██████████| 79/79 [00:02<00:00, 33.30it/s]\n",
      "Epoch(78): D_loss, G_loss ===> 0.318, 0.015: 100%|██████████| 79/79 [00:02<00:00, 33.36it/s]\n",
      "Epoch(79): D_loss, G_loss ===> 0.318, 0.015: 100%|██████████| 79/79 [00:02<00:00, 33.09it/s]\n",
      "Epoch(80): D_loss, G_loss ===> 0.316, 0.016: 100%|██████████| 79/79 [00:02<00:00, 33.05it/s]\n",
      "Epoch(81): D_loss, G_loss ===> 0.316, 0.014: 100%|██████████| 79/79 [00:02<00:00, 33.09it/s]\n",
      "Epoch(82): D_loss, G_loss ===> 0.313, 0.014: 100%|██████████| 79/79 [00:02<00:00, 32.90it/s]\n",
      "Epoch(83): D_loss, G_loss ===> 0.316, 0.017: 100%|██████████| 79/79 [00:02<00:00, 33.31it/s]\n",
      "Epoch(84): D_loss, G_loss ===> 0.313, 0.015: 100%|██████████| 79/79 [00:02<00:00, 32.97it/s]\n",
      "Epoch(85): D_loss, G_loss ===> 0.314, 0.015: 100%|██████████| 79/79 [00:02<00:00, 32.80it/s]\n",
      "Epoch(86): D_loss, G_loss ===> 0.317, 0.018: 100%|██████████| 79/79 [00:02<00:00, 33.29it/s]\n",
      "Epoch(87): D_loss, G_loss ===> 0.315, 0.015: 100%|██████████| 79/79 [00:02<00:00, 33.16it/s]\n",
      "Epoch(88): D_loss, G_loss ===> 0.315, 0.016: 100%|██████████| 79/79 [00:02<00:00, 33.37it/s]\n"
     ]
    },
    {
     "name": "stderr",
     "output_type": "stream",
     "text": [
      "Epoch(89): D_loss, G_loss ===> 0.316, 0.014: 100%|██████████| 79/79 [00:02<00:00, 33.21it/s]\n",
      "Epoch(90): D_loss, G_loss ===> 0.316, 0.015: 100%|██████████| 79/79 [00:02<00:00, 33.43it/s]\n",
      "Epoch(91): D_loss, G_loss ===> 0.315, 0.015: 100%|██████████| 79/79 [00:02<00:00, 33.17it/s]\n",
      "Epoch(92): D_loss, G_loss ===> 0.312, 0.015: 100%|██████████| 79/79 [00:02<00:00, 33.13it/s]\n",
      "Epoch(93): D_loss, G_loss ===> 0.314, 0.015: 100%|██████████| 79/79 [00:02<00:00, 32.97it/s]\n",
      "Epoch(94): D_loss, G_loss ===> 0.315, 0.015: 100%|██████████| 79/79 [00:02<00:00, 32.88it/s]\n",
      "Epoch(95): D_loss, G_loss ===> 0.315, 0.016: 100%|██████████| 79/79 [00:02<00:00, 32.63it/s]\n",
      "Epoch(96): D_loss, G_loss ===> 0.316, 0.015: 100%|██████████| 79/79 [00:02<00:00, 32.71it/s]\n",
      "Epoch(97): D_loss, G_loss ===> 0.312, 0.013: 100%|██████████| 79/79 [00:02<00:00, 32.88it/s]\n",
      "Epoch(98): D_loss, G_loss ===> 0.320, 0.016: 100%|██████████| 79/79 [00:02<00:00, 32.73it/s]\n",
      "Epoch(99): D_loss, G_loss ===> 0.327, 0.011: 100%|██████████| 79/79 [00:02<00:00, 32.86it/s]\n",
      "Epoch(100): D_loss, G_loss ===> 0.333, 0.011: 100%|██████████| 79/79 [00:02<00:00, 31.78it/s]\n"
     ]
    }
   ],
   "source": [
    "conv_gain_parameters = {'batch_size':256,\n",
    "                        'hint_rate':0.1,\n",
    "                        'learning_rate':0.0001,\n",
    "                        'alpha':0.02,\n",
    "                        'iterations':100}\n",
    "with tf.device('/device:GPU:0'):\n",
    "    imputed_data = ConvGAIN.Conv_GAIN(data_m, conv_gain_parameters)"
   ]
  },
  {
   "cell_type": "markdown",
   "metadata": {},
   "source": [
    "## Show some random results"
   ]
  },
  {
   "cell_type": "code",
   "execution_count": 17,
   "metadata": {},
   "outputs": [
    {
     "name": "stdout",
     "output_type": "stream",
     "text": [
      "Image : 122\n",
      "rmse :  nan\n"
     ]
    },
    {
     "data": {
      "image/png": "[encoded data removed]",
      "text/plain": [
       "<Figure size 1440x576 with 4 Axes>"
      ]
     },
     "metadata": {
      "needs_background": "light"
     },
     "output_type": "display_data"
    },
    {
     "name": "stdout",
     "output_type": "stream",
     "text": [
      "0.6610 sec\n"
     ]
    }
   ],
   "source": [
    "import time # time 라이브러리 import\n",
    "start = time.time()\n",
    "arr = show_results(data_x, data_m, data_m, imputed_data, num_examples=1)\n",
    "print(f\"{time.time()-start:.4f} sec\")"
   ]
  },
  {
   "cell_type": "code",
   "execution_count": 8,
   "metadata": {},
   "outputs": [],
   "source": [
    "actual, miss, pred= list(arr[0]), list(arr[1]), list(arr[2])"
   ]
  },
  {
   "cell_type": "code",
   "execution_count": 9,
   "metadata": {},
   "outputs": [
    {
     "name": "stdout",
     "output_type": "stream",
     "text": [
      "[14, 27, 42, 43, 57, 69, 73, 74, 76, 92, 102, 127, 128, 137, 179, 182, 184, 193, 196, 200, 201, 207, 209, 246, 247, 257, 260, 281, 284, 297, 300, 301, 303, 304, 308, 319, 328, 333, 338, 341, 342, 354, 356, 366, 390, 398, 400, 414, 422, 432, 435, 439, 452, 492, 503, 523, 527, 530, 541, 548, 552, 579, 595, 604, 610, 612, 613, 627, 644, 671, 672, 686, 758, 764, 768, 781]\n"
     ]
    }
   ],
   "source": [
    "miss2 = pd.DataFrame(miss)\n",
    "tt = miss2.isnull()\n",
    "tt = list(np.asarray(tt))\n",
    "tt_idx = []\n",
    "for i in range(len(tt)):\n",
    "    if tt[i]==True:\n",
    "        tt_idx.append(i)\n",
    "\n",
    "print(tt_idx)"
   ]
  },
  {
   "cell_type": "code",
   "execution_count": 25,
   "metadata": {},
   "outputs": [
    {
     "name": "stdout",
     "output_type": "stream",
     "text": [
      "0.05016651 0.07658672305940269\n",
      "0.08707442 0.03451869677236162\n",
      "0.05061219 0.04033106348334405\n",
      "0.056693725 0.04807167855051213\n",
      "0.036652025 0.07689123782176084\n",
      "0.04469344 0.0695729685347057\n",
      "0.06788222 0.058380654079536944\n",
      "0.07078941 0.09985872135125116\n",
      "0.058294345 0.0018710691978347817\n",
      "0.028653521 0.021953339197573623\n",
      "0.07232306 0.12948690772581792\n",
      "0.05928472 0.029490025114393782\n",
      "0.065486535 0.010292091728876886\n",
      "0.0900562 0.09339192409702503\n",
      "0.029604647 0.07521656694861292\n",
      "0.053793535 0.05065372502456451\n",
      "0.068086855 0.07217364107148291\n",
      "0.09251785 0.08027085423487011\n",
      "0.040058482 0.041538624533616106\n",
      "0.03338131 0.05083249130818911\n",
      "0.02518218 0.003282881813099753\n",
      "0.028863393 0.06844374180359088\n",
      "0.04584137 0.005984947991889673\n",
      "0.09091681 0.03608841037576114\n",
      "0.09410754 0.04645128034743505\n",
      "0.029394638 0.06983580199910684\n",
      "0.030058362 0.031357436064440185\n",
      "0.037654355 0.04851010504931978\n",
      "0.03204849 0.05762907111710834\n",
      "0.07659354 0.056974634912760364\n",
      "0.038127325 0.044414618260517284\n",
      "0.083187245 0.018672202673940208\n",
      "0.09755361 0.08441927002252543\n",
      "0.09701172 0.00259377364014013\n",
      "0.037845183 0.004414618616888238\n",
      "0.030893262 0.010617657666234296\n",
      "0.072511956 0.004411133369363752\n",
      "0.09631605 0.039870784070046274\n",
      "0.03420578 0.04818960989285785\n",
      "0.026354896 0.05162841990408806\n",
      "0.03146009 0.014056960273104357\n",
      "0.062728025 0.02159006117176782\n",
      "0.08529467 0.3778593244027327\n",
      "0.033204246 0.06631148705795936\n",
      "0.09505938 0.04176586397094424\n",
      "0.032587178 0.04508569181529851\n",
      "0.03763871 0.0030309723512139033\n",
      "0.1072044 0.07979318195311844\n",
      "0.028530454 0.033216708212600844\n",
      "0.047435854 0.008425338563736756\n",
      "0.06870357 0.08041771447308509\n",
      "0.102243125 0.030213353171824088\n",
      "0.030529128 0.06429326030246119\n",
      "0.07742681 0.08029963221648985\n",
      "0.09242793 0.03567703853210681\n",
      "0.1345589 0.058374617575046826\n",
      "0.077171475 0.0827777430275696\n",
      "0.0900565 0.10141228482270138\n",
      "0.028193863 0.00317628178282588\n",
      "0.06581951 0.04386944046709906\n",
      "0.17745917 0.004648696053680417\n",
      "0.1490847 0.03169435823645733\n",
      "0.033964258 0.01726130956221175\n",
      "0.059597377 0.06670630659169845\n",
      "0.11701481 0.038646304529637\n",
      "0.050971948 0.0792603335134375\n",
      "0.07513556 0.008160077216099033\n",
      "0.037062034 0.0318238519947512\n",
      "0.037439607 0.03667178332626361\n",
      "0.083962895 0.10898189550168338\n",
      "0.037804354 0.04166576554785136\n",
      "0.034985352 0.09884472940051671\n",
      "0.033534005 0.04415609226379472\n",
      "0.032941673 0.028558784569014697\n",
      "0.0367198 0.06107256656895043\n",
      "0.07001665 0.05471661599128205\n"
     ]
    }
   ],
   "source": [
    "re=[]\n",
    "pr=[]\n",
    "for i in tt_idx:\n",
    "    re.append(actual[i])\n",
    "    pr.append(pred[i])\n",
    "    print(actual[i],pred[i])"
   ]
  },
  {
   "cell_type": "code",
   "execution_count": 24,
   "metadata": {},
   "outputs": [
    {
     "data": {
      "text/plain": [
       "784"
      ]
     },
     "execution_count": 24,
     "metadata": {},
     "output_type": "execute_result"
    }
   ],
   "source": [
    "len(pred)"
   ]
  },
  {
   "cell_type": "code",
   "execution_count": 11,
   "metadata": {},
   "outputs": [
    {
     "data": {
      "text/plain": [
       "0.034954466"
      ]
     },
     "execution_count": 11,
     "metadata": {},
     "output_type": "execute_result"
    }
   ],
   "source": [
    "actual[1]"
   ]
  },
  {
   "cell_type": "code",
   "execution_count": 12,
   "metadata": {},
   "outputs": [
    {
     "data": {
      "text/plain": [
       "0.03495446820898069"
      ]
     },
     "execution_count": 12,
     "metadata": {},
     "output_type": "execute_result"
    }
   ],
   "source": [
    "pred[1]"
   ]
  },
  {
   "cell_type": "code",
   "execution_count": 13,
   "metadata": {},
   "outputs": [],
   "source": [
    "from sklearn.metrics import mean_squared_error\n",
    "\n",
    "RMSE = mean_squared_error(actual, pred)**0.5"
   ]
  },
  {
   "cell_type": "code",
   "execution_count": 14,
   "metadata": {},
   "outputs": [
    {
     "data": {
      "text/plain": [
       "0.017055178950871327"
      ]
     },
     "execution_count": 14,
     "metadata": {},
     "output_type": "execute_result"
    }
   ],
   "source": [
    "RMSE"
   ]
  },
  {
   "cell_type": "code",
   "execution_count": 19,
   "metadata": {},
   "outputs": [
    {
     "name": "stdout",
     "output_type": "stream",
     "text": [
      "708\n",
      "708\n",
      "708\n"
     ]
    }
   ],
   "source": [
    "# packages\n",
    "import math\n",
    "import numpy as np\n",
    "import matplotlib.pyplot as plt\n",
    "import matplotlib.style as style\n",
    "import pandas as pd\n",
    "#------------------------------------------------------------\n",
    "# 거리계산 함수\n",
    "def harvesine(lon1, lat1, lon2, lat2):\n",
    "    rad = math.pi / 180  # degree to radian\n",
    "    R = 6378.1  # 지구 평균 반경\n",
    "    dlon = (lon2 - lon1) * rad\n",
    "    dlat = (lat2 - lat1) * rad\n",
    "    a = (math.sin(dlat / 2)) ** 2 + math.cos(lat1 * rad) * \\\n",
    "        math.cos(lat2 * rad) * (math.sin(dlon / 2)) ** 2\n",
    "    c = 2 * math.atan2(math.sqrt(a), math.sqrt(1 - a))\n",
    "    d = R * c\n",
    "    return(d)\n",
    "# ------------------------------------------------------------\n",
    "# 예측 함수\n",
    "def idwr(x, y, z, xi, yi):\n",
    "    lstxyzi = []\n",
    "    for p in range(len(xi)):\n",
    "        lstdist = []\n",
    "        for s in range(len(x)):\n",
    "            d = (harvesine(x[s], y[s], xi[p], yi[p]))\n",
    "            lstdist.append(d)\n",
    "        sumsup = list((1 / np.power(lstdist, 2)))\n",
    "        suminf = np.sum(sumsup)\n",
    "        sumsup = np.sum(np.array(sumsup) * np.array(z))\n",
    "        u = sumsup / suminf\n",
    "        xyzi = [xi[p], yi[p], u]\n",
    "        lstxyzi.append(xyzi)\n",
    "    return(lstxyzi)\n",
    "#prepare\n",
    "\n",
    "## value\n",
    "data_test = pd.read_csv(\"./O3_test.csv\")\n",
    "del data_test['Unnamed: 0']\n",
    "data_test=np.asarray(data_test)\n",
    "data_test = data_test.reshape(-1)\n",
    "data_test.shape\n",
    "data_test=list(data_test)\n",
    "\n",
    "## 좌표\n",
    "a=33\n",
    "x_1=[]\n",
    "for i in range(28):\n",
    "    a=a+0.35714285714285714285714285714286\n",
    "    x_1.append(a)\n",
    "b=124\n",
    "y_1=[]\n",
    "for i in range(28):\n",
    "    b=b+0.28571428571428571428571428571429\n",
    "    y_1.append(b)\n",
    "    \n",
    "arr=[]\n",
    "for i in range(len(y_1)):\n",
    "    for z in range(len(x_1)):\n",
    "        arr.append([y_1[i],x_1[z]])\n",
    "arr = np.asarray(arr)\n",
    "# Unknown point prepare\n",
    "x = []\n",
    "y = []\n",
    "real_value = []\n",
    "ff = [14, 27, 42, 43, 57, 69, 73, 74, 76, 92, 102, 127, 128, 137, 179, 182, 184, 193, 196, 200, 201, 207, 209, 246, 247, 257, 260, 281, 284, 297, 300, 301, 303, 304, 308, 319, 328, 333, 338, 341, 342, 354, 356, 366, 390, 398, 400, 414, 422, 432, 435, 439, 452, 492, 503, 523, 527, 530, 541, 548, 552, 579, 595, 604, 610, 612, 613, 627, 644, 671, 672, 686, 758, 764, 768, 781]\n",
    "for i in ff:\n",
    "    #y\n",
    "    y_v=arr[i][0]\n",
    "    y.append(y_v)\n",
    "    #x\n",
    "    x_v=arr[i][1]\n",
    "    x.append(x_v)\n",
    "    #z\n",
    "    z_v = data_test[i]\n",
    "    real_value.append(z_v)\n",
    "# kown point prepare\n",
    "x_i=[]\n",
    "y_i=[]\n",
    "z_i=[]\n",
    "for i in range(len(arr)):\n",
    "    if i not in ff:\n",
    "        x_b=arr[i][1]\n",
    "        y_b=arr[i][0]\n",
    "        z_b=data_test[i]\n",
    "        x_i.append(x_b)\n",
    "        y_i.append(y_b)\n",
    "        z_i.append(z_b)\n",
    "print(len(x_i))\n",
    "print(len(y_i))\n",
    "print(len(z_i))\n",
    "x_i = list(x_i)\n",
    "y_i = list(y_i)\n",
    "z_i = list(z_i)\n",
    "x = list(x)\n",
    "y = list(y)"
   ]
  },
  {
   "cell_type": "markdown",
   "metadata": {},
   "source": [
    "<h1 align=\"Center\"> Thanks"
   ]
  },
  {
   "cell_type": "code",
   "execution_count": 28,
   "metadata": {},
   "outputs": [
    {
     "data": {
      "image/png": "[encoded data removed]",
      "text/plain": [
       "<Figure size 432x288 with 1 Axes>"
      ]
     },
     "metadata": {
      "needs_background": "light"
     },
     "output_type": "display_data"
    }
   ],
   "source": [
    "import matplotlib.pyplot as plt\n",
    "x = np.asarray(x)\n",
    "y = np.asarray(y)\n",
    "z = np.asarray(pr)\n",
    "z_1 = np.asarray(re)\n",
    "axes = plt.subplot(projection='3d')\n",
    "axes.plot(x,y,z,\"o\",label=\"prediction\",color='r')\n",
    "axes.plot(x,y,z_1,\"o\",label=\"actual\",color='b')\n",
    "plt.legend(loc=\"upper left\")\n",
    "plt.show()"
   ]
  },
  {
   "cell_type": "code",
   "execution_count": null,
   "metadata": {},
   "outputs": [],
   "source": []
  }
 ],
 "metadata": {
  "kernelspec": {
   "display_name": "tf240",
   "language": "python",
   "name": "tf240"
  },
  "language_info": {
   "codemirror_mode": {
    "name": "ipython",
    "version": 3
   },
   "file_extension": ".py",
   "mimetype": "text/x-python",
   "name": "python",
   "nbconvert_exporter": "python",
   "pygments_lexer": "ipython3",
   "version": "3.7.10"
  }
 },
 "nbformat": 4,
 "nbformat_minor": 5
}
